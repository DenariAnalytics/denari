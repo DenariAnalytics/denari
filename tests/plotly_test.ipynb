{
 "cells": [
  {
   "cell_type": "code",
   "execution_count": 1,
   "id": "d8e466fa",
   "metadata": {},
   "outputs": [],
   "source": [
    "%load_ext autoreload\n",
    "%autoreload 2"
   ]
  },
  {
   "cell_type": "code",
   "execution_count": 2,
   "id": "22e19a67",
   "metadata": {},
   "outputs": [
    {
     "ename": "ModuleNotFoundError",
     "evalue": "No module named 'TaxTools'",
     "output_type": "error",
     "traceback": [
      "\u001b[1;31m---------------------------------------------------------------------------\u001b[0m",
      "\u001b[1;31mModuleNotFoundError\u001b[0m                       Traceback (most recent call last)",
      "Cell \u001b[1;32mIn[2], line 5\u001b[0m\n\u001b[0;32m      2\u001b[0m \u001b[38;5;28;01mimport\u001b[39;00m \u001b[38;5;21;01mos\u001b[39;00m\n\u001b[0;32m      3\u001b[0m \u001b[38;5;66;03m#sys.path.insert(0, os.path.abspath('../denari'))\u001b[39;00m\n\u001b[1;32m----> 5\u001b[0m \u001b[38;5;28;01mfrom\u001b[39;00m \u001b[38;5;21;01mdenari\u001b[39;00m \u001b[38;5;28;01mimport\u001b[39;00m TaxTools \u001b[38;5;28;01mas\u001b[39;00m tax\n\u001b[0;32m      6\u001b[0m \u001b[38;5;28;01mimport\u001b[39;00m \u001b[38;5;21;01mplotly\u001b[39;00m\u001b[38;5;21;01m.\u001b[39;00m\u001b[38;5;21;01mgraph_objects\u001b[39;00m \u001b[38;5;28;01mas\u001b[39;00m \u001b[38;5;21;01mgo\u001b[39;00m\n",
      "File \u001b[1;32m~\\AppData\\Local\\Programs\\Python\\Python311\\Lib\\site-packages\\denari\\__init__.py:2\u001b[0m\n\u001b[0;32m      1\u001b[0m \u001b[38;5;28;01mfrom\u001b[39;00m \u001b[38;5;21;01m.\u001b[39;00m\u001b[38;5;21;01mMontana\u001b[39;00m \u001b[38;5;28;01mimport\u001b[39;00m Montana\n\u001b[1;32m----> 2\u001b[0m \u001b[38;5;28;01mfrom\u001b[39;00m \u001b[38;5;21;01m.\u001b[39;00m\u001b[38;5;21;01mNarcoAnalytics\u001b[39;00m \u001b[38;5;28;01mimport\u001b[39;00m NarcoAnalytics\n\u001b[0;32m      3\u001b[0m \u001b[38;5;28;01mfrom\u001b[39;00m \u001b[38;5;21;01m.\u001b[39;00m\u001b[38;5;21;01mTaxTools\u001b[39;00m \u001b[38;5;28;01mimport\u001b[39;00m TaxTools\n\u001b[0;32m      5\u001b[0m __all__ \u001b[38;5;241m=\u001b[39m [\u001b[38;5;124m'\u001b[39m\u001b[38;5;124mMontana\u001b[39m\u001b[38;5;124m'\u001b[39m, \u001b[38;5;124m'\u001b[39m\u001b[38;5;124mNarcoAnalytics\u001b[39m\u001b[38;5;124m'\u001b[39m, \u001b[38;5;124m'\u001b[39m\u001b[38;5;124mTaxTools\u001b[39m\u001b[38;5;124m'\u001b[39m]\n",
      "File \u001b[1;32m~\\AppData\\Local\\Programs\\Python\\Python311\\Lib\\site-packages\\denari\\NarcoAnalytics.py:6\u001b[0m\n\u001b[0;32m      4\u001b[0m \u001b[38;5;28;01mimport\u001b[39;00m \u001b[38;5;21;01mplotly\u001b[39;00m\u001b[38;5;21;01m.\u001b[39;00m\u001b[38;5;21;01mgraph_objects\u001b[39;00m \u001b[38;5;28;01mas\u001b[39;00m \u001b[38;5;21;01mgo\u001b[39;00m\n\u001b[0;32m      5\u001b[0m \u001b[38;5;28;01mimport\u001b[39;00m \u001b[38;5;21;01mdatetime\u001b[39;00m \u001b[38;5;28;01mas\u001b[39;00m \u001b[38;5;21;01mdt\u001b[39;00m\n\u001b[1;32m----> 6\u001b[0m \u001b[38;5;28;01mimport\u001b[39;00m \u001b[38;5;21;01mTaxTools\u001b[39;00m \u001b[38;5;28;01mas\u001b[39;00m \u001b[38;5;21;01mtax\u001b[39;00m\n\u001b[0;32m      8\u001b[0m slash \u001b[38;5;241m=\u001b[39m \u001b[38;5;124m'\u001b[39m\u001b[38;5;124m/\u001b[39m\u001b[38;5;124m'\u001b[39m\n\u001b[0;32m      9\u001b[0m path \u001b[38;5;241m=\u001b[39m os\u001b[38;5;241m.\u001b[39mgetcwd()\n",
      "\u001b[1;31mModuleNotFoundError\u001b[0m: No module named 'TaxTools'"
     ]
    }
   ],
   "source": [
    "import sys\n",
    "import os\n",
    "#sys.path.insert(0, os.path.abspath('../denari'))\n",
    "\n",
    "from denari import TaxTools as tax\n",
    "import plotly.graph_objects as go"
   ]
  },
  {
   "cell_type": "code",
   "execution_count": null,
   "id": "968bdbdb",
   "metadata": {},
   "outputs": [],
   "source": [
    "dir(tax)"
   ]
  },
  {
   "cell_type": "code",
   "execution_count": null,
   "id": "ae76774c",
   "metadata": {},
   "outputs": [],
   "source": [
    "t = 40000\n",
    "e = 3000\n",
    "y = '2021/2022'\n",
    "tc = '1257A'"
   ]
  },
  {
   "cell_type": "code",
   "execution_count": null,
   "id": "c38cef1f",
   "metadata": {},
   "outputs": [],
   "source": [
    "%%time\n",
    "a = tax.iterate_lite_full_take(t,e,y,tc)"
   ]
  },
  {
   "cell_type": "code",
   "execution_count": null,
   "id": "79cd951f",
   "metadata": {},
   "outputs": [],
   "source": [
    "a"
   ]
  },
  {
   "cell_type": "code",
   "execution_count": null,
   "id": "d34478f3",
   "metadata": {},
   "outputs": [],
   "source": [
    "%%time\n",
    "b = tax.iterate_lite_full_take(t,e,y,tc,optimal=False)"
   ]
  },
  {
   "cell_type": "code",
   "execution_count": null,
   "id": "8e0577e2",
   "metadata": {},
   "outputs": [],
   "source": [
    "b"
   ]
  },
  {
   "cell_type": "code",
   "execution_count": null,
   "id": "8e4c3632",
   "metadata": {},
   "outputs": [],
   "source": [
    "t = t\n",
    "e = e\n",
    "y = y\n",
    "tc = tc\n",
    "\n",
    "funds = t - e\n",
    "salary_test = 1000"
   ]
  },
  {
   "cell_type": "code",
   "execution_count": null,
   "id": "6f713cff",
   "metadata": {},
   "outputs": [],
   "source": [
    "%%time\n",
    "c = tax.ltd_full_take(t,salary_test,e,y,tc)"
   ]
  },
  {
   "cell_type": "code",
   "execution_count": null,
   "id": "f1aae7cf",
   "metadata": {},
   "outputs": [],
   "source": [
    "c"
   ]
  },
  {
   "cell_type": "code",
   "execution_count": null,
   "id": "484d5f11",
   "metadata": {},
   "outputs": [],
   "source": []
  }
 ],
 "metadata": {
  "kernelspec": {
   "display_name": "Python 3 (ipykernel)",
   "language": "python",
   "name": "python3"
  },
  "language_info": {
   "codemirror_mode": {
    "name": "ipython",
    "version": 3
   },
   "file_extension": ".py",
   "mimetype": "text/x-python",
   "name": "python",
   "nbconvert_exporter": "python",
   "pygments_lexer": "ipython3",
   "version": "3.11.1"
  }
 },
 "nbformat": 4,
 "nbformat_minor": 5
}
